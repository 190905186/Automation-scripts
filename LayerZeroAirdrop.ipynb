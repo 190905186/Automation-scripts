{
  "nbformat": 4,
  "nbformat_minor": 0,
  "metadata": {
    "colab": {
      "provenance": [],
      "authorship_tag": "ABX9TyP7MtnXPO6GbjHSyZCXYP1r",
      "include_colab_link": true
    },
    "kernelspec": {
      "name": "python3",
      "display_name": "Python 3"
    },
    "language_info": {
      "name": "python"
    }
  },
  "cells": [
    {
      "cell_type": "markdown",
      "metadata": {
        "id": "view-in-github",
        "colab_type": "text"
      },
      "source": [
        "<a href=\"https://colab.research.google.com/github/190905186/Automation-scripts/blob/main/LayerZeroAirdrop.ipynb\" target=\"_parent\"><img src=\"https://colab.research.google.com/assets/colab-badge.svg\" alt=\"Open In Colab\"/></a>"
      ]
    },
    {
      "cell_type": "code",
      "source": [
        "!wget https://layerzerodataset.s3.us-east-2.amazonaws.com/2024-05-15-snapshot1_transactions.csv.gz"
      ],
      "metadata": {
        "id": "XU9ZrSBiTicY",
        "colab": {
          "base_uri": "https://localhost:8080/"
        },
        "outputId": "f7e35b98-8c47-4a9b-cef6-0b9a475e1695"
      },
      "execution_count": 3,
      "outputs": [
        {
          "output_type": "stream",
          "name": "stdout",
          "text": [
            "--2024-05-18 06:51:38--  https://layerzerodataset.s3.us-east-2.amazonaws.com/2024-05-15-snapshot1_transactions.csv.gz\n",
            "Resolving layerzerodataset.s3.us-east-2.amazonaws.com (layerzerodataset.s3.us-east-2.amazonaws.com)... 3.5.130.190, 52.219.107.26, 3.5.131.39, ...\n",
            "Connecting to layerzerodataset.s3.us-east-2.amazonaws.com (layerzerodataset.s3.us-east-2.amazonaws.com)|3.5.130.190|:443... connected.\n",
            "HTTP request sent, awaiting response... 200 OK\n",
            "Length: 15782276060 (15G) [application/x-gzip]\n",
            "Saving to: ‘2024-05-15-snapshot1_transactions.csv.gz.1’\n",
            "\n",
            "2024-05-15-snapshot 100%[===================>]  14.70G  50.2MB/s    in 5m 0s   \n",
            "\n",
            "2024-05-18 06:56:38 (50.2 MB/s) - ‘2024-05-15-snapshot1_transactions.csv.gz.1’ saved [15782276060/15782276060]\n",
            "\n"
          ]
        }
      ]
    },
    {
      "cell_type": "code",
      "source": [
        "!apt update && apt-get install openjdk-8-jdk-headless -qq > /dev/null"
      ],
      "metadata": {
        "colab": {
          "base_uri": "https://localhost:8080/"
        },
        "id": "MzTXLObBd2yL",
        "outputId": "d4d278bc-ba88-4b61-f98d-9f43170528d5"
      },
      "execution_count": 4,
      "outputs": [
        {
          "output_type": "stream",
          "name": "stdout",
          "text": [
            "\u001b[33m\r0% [Working]\u001b[0m\r            \rGet:1 https://cloud.r-project.org/bin/linux/ubuntu jammy-cran40/ InRelease [3,626 B]\n",
            "\u001b[33m\r0% [Connecting to archive.ubuntu.com (185.125.190.39)] [Waiting for headers] [1 InRelease 0 B/3,626 \u001b[0m\u001b[33m\r0% [Connecting to archive.ubuntu.com (185.125.190.39)] [Waiting for headers] [Connecting to ppa.laun\u001b[0m\r                                                                                                    \rHit:2 https://developer.download.nvidia.com/compute/cuda/repos/ubuntu2204/x86_64  InRelease\n",
            "Get:3 http://security.ubuntu.com/ubuntu jammy-security InRelease [110 kB]\n",
            "Hit:4 http://archive.ubuntu.com/ubuntu jammy InRelease\n",
            "Get:5 http://archive.ubuntu.com/ubuntu jammy-updates InRelease [119 kB]\n",
            "Hit:6 https://ppa.launchpadcontent.net/c2d4u.team/c2d4u4.0+/ubuntu jammy InRelease\n",
            "Hit:7 https://ppa.launchpadcontent.net/deadsnakes/ppa/ubuntu jammy InRelease\n",
            "Hit:8 http://archive.ubuntu.com/ubuntu jammy-backports InRelease\n",
            "Hit:9 https://ppa.launchpadcontent.net/graphics-drivers/ppa/ubuntu jammy InRelease\n",
            "Get:10 http://archive.ubuntu.com/ubuntu jammy-updates/main amd64 Packages [2,118 kB]\n",
            "Hit:11 https://ppa.launchpadcontent.net/ubuntugis/ppa/ubuntu jammy InRelease\n",
            "Fetched 2,351 kB in 2s (1,211 kB/s)\n",
            "Reading package lists... Done\n",
            "Building dependency tree... Done\n",
            "Reading state information... Done\n",
            "45 packages can be upgraded. Run 'apt list --upgradable' to see them.\n"
          ]
        }
      ]
    },
    {
      "cell_type": "code",
      "source": [
        "!pip install pyspark findspark\n",
        "import findspark\n",
        "findspark.init()"
      ],
      "metadata": {
        "colab": {
          "base_uri": "https://localhost:8080/"
        },
        "id": "c_5sPHeWehID",
        "outputId": "88a26012-1c0e-4114-b457-6042aea77141"
      },
      "execution_count": 5,
      "outputs": [
        {
          "output_type": "stream",
          "name": "stdout",
          "text": [
            "Collecting pyspark\n",
            "  Downloading pyspark-3.5.1.tar.gz (317.0 MB)\n",
            "\u001b[2K     \u001b[90m━━━━━━━━━━━━━━━━━━━━━━━━━━━━━━━━━━━━━━━━\u001b[0m \u001b[32m317.0/317.0 MB\u001b[0m \u001b[31m3.8 MB/s\u001b[0m eta \u001b[36m0:00:00\u001b[0m\n",
            "\u001b[?25h  Preparing metadata (setup.py) ... \u001b[?25l\u001b[?25hdone\n",
            "Collecting findspark\n",
            "  Downloading findspark-2.0.1-py2.py3-none-any.whl (4.4 kB)\n",
            "Requirement already satisfied: py4j==0.10.9.7 in /usr/local/lib/python3.10/dist-packages (from pyspark) (0.10.9.7)\n",
            "Building wheels for collected packages: pyspark\n",
            "  Building wheel for pyspark (setup.py) ... \u001b[?25l\u001b[?25hdone\n",
            "  Created wheel for pyspark: filename=pyspark-3.5.1-py2.py3-none-any.whl size=317488491 sha256=b3907610be442c3aaf98d8eaf989db595608eef8936df545c7b883d1c37613e3\n",
            "  Stored in directory: /root/.cache/pip/wheels/80/1d/60/2c256ed38dddce2fdd93be545214a63e02fbd8d74fb0b7f3a6\n",
            "Successfully built pyspark\n",
            "Installing collected packages: findspark, pyspark\n",
            "Successfully installed findspark-2.0.1 pyspark-3.5.1\n"
          ]
        }
      ]
    },
    {
      "cell_type": "code",
      "source": [
        "from pyspark.sql import SparkSession\n",
        "\n",
        "spark = SparkSession.builder \\\n",
        "  .master('local[*]') \\\n",
        "  .appName('YourAppName') \\\n",
        "  .getOrCreate()\n"
      ],
      "metadata": {
        "id": "xFRhCsf5esBa"
      },
      "execution_count": 6,
      "outputs": []
    },
    {
      "cell_type": "code",
      "source": [
        "import pyspark.sql.functions as F\n",
        "\n",
        "from pyspark.sql.types import StructType, StringType, TimestampType, DoubleType,StructField\n",
        "\n",
        "schema = StructType([\n",
        "    StructField(\"SOURCE_CHAIN\", StringType(), True),\n",
        "    StructField(\"SOURCE_TRANSACTION_HASH\", StringType(), True),\n",
        "    StructField(\"SOURCE_CONTRACT\", StringType(), True),\n",
        "    StructField(\"DESTINATION_CHAIN\", StringType(), True),\n",
        "    StructField(\"DESTINATION_TRANSACTION_HASH\", StringType(), True),\n",
        "    StructField(\"DESTINATION_CONTRACT\", StringType(), True),\n",
        "    StructField(\"SENDER_WALLET\", StringType(), True),\n",
        "    StructField(\"SOURCE_TIMESTAMP_UTC\", TimestampType(), True),\n",
        "    StructField(\"PROJECT\", StringType(), True),\n",
        "    StructField(\"NATIVE_DROP_USD\", DoubleType(), True),  # Assuming USD values are numerical\n",
        "    StructField(\"STARGATE_SWAP_USD\", DoubleType(), True)  # Assuming USD values are numerical\n",
        "])\n",
        "\n",
        "# Assuming S3 filesystem is mounted (refer to previous responses for mounting instructions)\n",
        "df = spark.read.csv(\n",
        "    \"2024-05-15-snapshot1_transactions.csv.gz\",\n",
        "    schema=schema,\n",
        "    header=True\n",
        "    # Infer schema if you don't know it beforehand\n",
        ")"
      ],
      "metadata": {
        "id": "rNaDZ6qxetbi"
      },
      "execution_count": 14,
      "outputs": []
    },
    {
      "cell_type": "code",
      "source": [
        "df.printSchema()"
      ],
      "metadata": {
        "colab": {
          "base_uri": "https://localhost:8080/"
        },
        "id": "Z5BBoPnmf7OL",
        "outputId": "bc4c4270-7b6b-4bec-c4a8-59067c97f44a"
      },
      "execution_count": 15,
      "outputs": [
        {
          "output_type": "stream",
          "name": "stdout",
          "text": [
            "root\n",
            " |-- SOURCE_CHAIN: string (nullable = true)\n",
            " |-- SOURCE_TRANSACTION_HASH: string (nullable = true)\n",
            " |-- SOURCE_CONTRACT: string (nullable = true)\n",
            " |-- DESTINATION_CHAIN: string (nullable = true)\n",
            " |-- DESTINATION_TRANSACTION_HASH: string (nullable = true)\n",
            " |-- DESTINATION_CONTRACT: string (nullable = true)\n",
            " |-- SENDER_WALLET: string (nullable = true)\n",
            " |-- SOURCE_TIMESTAMP_UTC: timestamp (nullable = true)\n",
            " |-- PROJECT: string (nullable = true)\n",
            " |-- NATIVE_DROP_USD: double (nullable = true)\n",
            " |-- STARGATE_SWAP_USD: double (nullable = true)\n",
            "\n"
          ]
        }
      ]
    },
    {
      "cell_type": "code",
      "source": [
        "df.show(5,truncate=False)"
      ],
      "metadata": {
        "colab": {
          "base_uri": "https://localhost:8080/"
        },
        "id": "qze8AlRygLz1",
        "outputId": "82ca3972-c196-4507-d189-131f7a0ba97d"
      },
      "execution_count": 16,
      "outputs": [
        {
          "output_type": "stream",
          "name": "stdout",
          "text": [
            "+----------------------+------------------------------------------------------------------+------------------------------------------+-----------------+------------------------------------------------------------------+------------------------------------------+------------------------------------------+--------------------+-------+---------------+-----------------+\n",
            "|SOURCE_CHAIN          |SOURCE_TRANSACTION_HASH                                           |SOURCE_CONTRACT                           |DESTINATION_CHAIN|DESTINATION_TRANSACTION_HASH                                      |DESTINATION_CONTRACT                      |SENDER_WALLET                             |SOURCE_TIMESTAMP_UTC|PROJECT|NATIVE_DROP_USD|STARGATE_SWAP_USD|\n",
            "+----------------------+------------------------------------------------------------------+------------------------------------------+-----------------+------------------------------------------------------------------+------------------------------------------+------------------------------------------+--------------------+-------+---------------+-----------------+\n",
            "|Klaytn Mainnet Cypress|0x35cbf0b8b70c8be82679698a17a9cc52bc1f0783c4be268c1fad97c2f467878d|0x79db0f1a83f8e743550eeb5dd5b0b83334f2f083|DFK              |0x3a910f9984792c6aec052731f4a90d1f49c7bfa08de245153b993f56f899d919|0x457fd60ffa26576e226252092c98921f12e90fbb|0xda235bcd17f416f6c42ac50ec7ddf5b8d7d61b24|2023-12-31 06:47:21 |Merkly |6.102727778E-6 |NULL             |\n",
            "|Arbitrum              |0x222911eb3865d12d078deb542b0fa5a7677a08ad3042db91507fa74e5d118276|0x4ae8cebccd7027820ba83188dfd73ccad0a92806|Meter Mainnet    |0x20066868696bdc9b9cb0bf1ad372cfb0c9fecf7de64c9278a6623fb7615969a0|0xb6c5e0d2ffc3fc80c8d3f5a8b86b7a796a2c5782|0x9e6c90e31176b0c4357d847ab469d9c46c1a4ea1|2023-12-24 09:34:47 |Merkly |0.04807681263  |NULL             |\n",
            "|Arbitrum              |0x42c05cd542817bafeac1d6cbf0f9887d20541963e40ac24ba7fe1b9949fc9056|0x4ae8cebccd7027820ba83188dfd73ccad0a92806|Meter Mainnet    |0xa3070bb888bf3c140ee3364941674ab29f94a0a27b53b6880ca44c01726dc932|0xb6c5e0d2ffc3fc80c8d3f5a8b86b7a796a2c5782|0xe1ddc929cf4273824236aaa758ac49f5f3baaa31|2023-12-25 01:20:31 |Merkly |0.04840376699  |NULL             |\n",
            "|Arbitrum              |0xabdeabdb90db5b0566483b2fe1f841057ea6e51d79679abfd8b9af23518c69a6|0x4ae8cebccd7027820ba83188dfd73ccad0a92806|Meter Mainnet    |0xab30321a3ef1c8efd25f4ddd4cc7dbac6f1cfc73b0ff65b3b860ce4b3e08aa62|0xb6c5e0d2ffc3fc80c8d3f5a8b86b7a796a2c5782|0xbcc8461cc5839aa38ec9fa31159eea914362b476|2023-12-26 09:47:49 |Merkly |0.0535516033   |NULL             |\n",
            "|Polygon               |0x577a6051484561d5bbaa33812d6b77c1adbb493d9126682ba7f3f83a9add058c|0x70ea00ab512d13dac5001c968f8d2263d179e2d2|Harmony          |0x116ca80ed59f4e2321a393b06b30b2b3a4b458e97cbc93071c1fb35776bfe679|0x909499e536dc85ca16b211053bba805c6a46748c|0x085502c95c9968aee47bcd24953dd79c27050b79|2023-10-03 20:05:11 |Merkly |NULL           |NULL             |\n",
            "+----------------------+------------------------------------------------------------------+------------------------------------------+-----------------+------------------------------------------------------------------+------------------------------------------+------------------------------------------+--------------------+-------+---------------+-----------------+\n",
            "only showing top 5 rows\n",
            "\n"
          ]
        }
      ]
    },
    {
      "cell_type": "code",
      "source": [
        "from pyspark.sql.functions import to_date, year, month, dayofmonth, hour, minute, second, concat, dayofweek,lit,format_string,date_format,col\n",
        "\n",
        "df = df.withColumn(\"date\", to_date(\"SOURCE_TIMESTAMP_UTC\"))\n",
        "df = df.withColumn(\"year\", year(to_date(\"SOURCE_TIMESTAMP_UTC\")))\n",
        "df = df.withColumn(\"month\", month(to_date(\"SOURCE_TIMESTAMP_UTC\")))\n",
        "df = df.withColumn(\"day\", dayofmonth(to_date(\"SOURCE_TIMESTAMP_UTC\")))\n",
        "df = df.withColumn(\"hour\",hour(\"SOURCE_TIMESTAMP_UTC\"))\n",
        "df = df.withColumn(\"minute\",minute(\"SOURCE_TIMESTAMP_UTC\"))\n",
        "df = df.withColumn(\"second\",second(\"SOURCE_TIMESTAMP_UTC\"))\n",
        "df = df.withColumn(\"time\", concat(hour(\"SOURCE_TIMESTAMP_UTC\"), lit(\":\"), minute(\"SOURCE_TIMESTAMP_UTC\"), lit(\":\"), second(\"SOURCE_TIMESTAMP_UTC\")))\n",
        "df = df.withColumn(\"yyyymm\", date_format(to_date(\"SOURCE_TIMESTAMP_UTC\"), \"yyyyMM\"))\n",
        "df = df.withColumn(\"yyyymm\",col(\"yyyymm\").cast('int'))"
      ],
      "metadata": {
        "id": "4XeQze1UgOGw"
      },
      "execution_count": 36,
      "outputs": []
    },
    {
      "cell_type": "code",
      "source": [
        "df.printSchema()"
      ],
      "metadata": {
        "colab": {
          "base_uri": "https://localhost:8080/"
        },
        "id": "hHyyQ63cmlWp",
        "outputId": "cdb5a026-bc8b-474a-9ae9-85776a54e395"
      },
      "execution_count": 37,
      "outputs": [
        {
          "output_type": "stream",
          "name": "stdout",
          "text": [
            "root\n",
            " |-- SOURCE_CHAIN: string (nullable = true)\n",
            " |-- SOURCE_TRANSACTION_HASH: string (nullable = true)\n",
            " |-- SOURCE_CONTRACT: string (nullable = true)\n",
            " |-- DESTINATION_CHAIN: string (nullable = true)\n",
            " |-- DESTINATION_TRANSACTION_HASH: string (nullable = true)\n",
            " |-- DESTINATION_CONTRACT: string (nullable = true)\n",
            " |-- SENDER_WALLET: string (nullable = true)\n",
            " |-- SOURCE_TIMESTAMP_UTC: timestamp (nullable = true)\n",
            " |-- PROJECT: string (nullable = true)\n",
            " |-- NATIVE_DROP_USD: double (nullable = true)\n",
            " |-- STARGATE_SWAP_USD: double (nullable = true)\n",
            " |-- year: integer (nullable = true)\n",
            " |-- month: integer (nullable = true)\n",
            " |-- day: integer (nullable = true)\n",
            " |-- time: string (nullable = true)\n",
            " |-- yyyymm: integer (nullable = true)\n",
            " |-- date: date (nullable = true)\n",
            " |-- hour: integer (nullable = true)\n",
            " |-- minute: integer (nullable = true)\n",
            " |-- second: integer (nullable = true)\n",
            "\n"
          ]
        }
      ]
    },
    {
      "cell_type": "code",
      "source": [
        "df.show(5,truncate=False)"
      ],
      "metadata": {
        "colab": {
          "base_uri": "https://localhost:8080/"
        },
        "id": "dcw24TJdm8cE",
        "outputId": "8a69008c-49a8-492e-ac39-977715548fc2"
      },
      "execution_count": 38,
      "outputs": [
        {
          "output_type": "stream",
          "name": "stdout",
          "text": [
            "+----------------------+------------------------------------------------------------------+------------------------------------------+-----------------+------------------------------------------------------------------+------------------------------------------+------------------------------------------+--------------------+-------+---------------+-----------------+----+-----+---+-------+------+----------+----+------+------+\n",
            "|SOURCE_CHAIN          |SOURCE_TRANSACTION_HASH                                           |SOURCE_CONTRACT                           |DESTINATION_CHAIN|DESTINATION_TRANSACTION_HASH                                      |DESTINATION_CONTRACT                      |SENDER_WALLET                             |SOURCE_TIMESTAMP_UTC|PROJECT|NATIVE_DROP_USD|STARGATE_SWAP_USD|year|month|day|time   |yyyymm|date      |hour|minute|second|\n",
            "+----------------------+------------------------------------------------------------------+------------------------------------------+-----------------+------------------------------------------------------------------+------------------------------------------+------------------------------------------+--------------------+-------+---------------+-----------------+----+-----+---+-------+------+----------+----+------+------+\n",
            "|Klaytn Mainnet Cypress|0x35cbf0b8b70c8be82679698a17a9cc52bc1f0783c4be268c1fad97c2f467878d|0x79db0f1a83f8e743550eeb5dd5b0b83334f2f083|DFK              |0x3a910f9984792c6aec052731f4a90d1f49c7bfa08de245153b993f56f899d919|0x457fd60ffa26576e226252092c98921f12e90fbb|0xda235bcd17f416f6c42ac50ec7ddf5b8d7d61b24|2023-12-31 06:47:21 |Merkly |6.102727778E-6 |NULL             |2023|12   |31 |6:47:21|202312|2023-12-31|6   |47    |21    |\n",
            "|Arbitrum              |0x222911eb3865d12d078deb542b0fa5a7677a08ad3042db91507fa74e5d118276|0x4ae8cebccd7027820ba83188dfd73ccad0a92806|Meter Mainnet    |0x20066868696bdc9b9cb0bf1ad372cfb0c9fecf7de64c9278a6623fb7615969a0|0xb6c5e0d2ffc3fc80c8d3f5a8b86b7a796a2c5782|0x9e6c90e31176b0c4357d847ab469d9c46c1a4ea1|2023-12-24 09:34:47 |Merkly |0.04807681263  |NULL             |2023|12   |24 |9:34:47|202312|2023-12-24|9   |34    |47    |\n",
            "|Arbitrum              |0x42c05cd542817bafeac1d6cbf0f9887d20541963e40ac24ba7fe1b9949fc9056|0x4ae8cebccd7027820ba83188dfd73ccad0a92806|Meter Mainnet    |0xa3070bb888bf3c140ee3364941674ab29f94a0a27b53b6880ca44c01726dc932|0xb6c5e0d2ffc3fc80c8d3f5a8b86b7a796a2c5782|0xe1ddc929cf4273824236aaa758ac49f5f3baaa31|2023-12-25 01:20:31 |Merkly |0.04840376699  |NULL             |2023|12   |25 |1:20:31|202312|2023-12-25|1   |20    |31    |\n",
            "|Arbitrum              |0xabdeabdb90db5b0566483b2fe1f841057ea6e51d79679abfd8b9af23518c69a6|0x4ae8cebccd7027820ba83188dfd73ccad0a92806|Meter Mainnet    |0xab30321a3ef1c8efd25f4ddd4cc7dbac6f1cfc73b0ff65b3b860ce4b3e08aa62|0xb6c5e0d2ffc3fc80c8d3f5a8b86b7a796a2c5782|0xbcc8461cc5839aa38ec9fa31159eea914362b476|2023-12-26 09:47:49 |Merkly |0.0535516033   |NULL             |2023|12   |26 |9:47:49|202312|2023-12-26|9   |47    |49    |\n",
            "|Polygon               |0x577a6051484561d5bbaa33812d6b77c1adbb493d9126682ba7f3f83a9add058c|0x70ea00ab512d13dac5001c968f8d2263d179e2d2|Harmony          |0x116ca80ed59f4e2321a393b06b30b2b3a4b458e97cbc93071c1fb35776bfe679|0x909499e536dc85ca16b211053bba805c6a46748c|0x085502c95c9968aee47bcd24953dd79c27050b79|2023-10-03 20:05:11 |Merkly |NULL           |NULL             |2023|10   |3  |20:5:11|202310|2023-10-03|20  |5     |11    |\n",
            "+----------------------+------------------------------------------------------------------+------------------------------------------+-----------------+------------------------------------------------------------------+------------------------------------------+------------------------------------------+--------------------+-------+---------------+-----------------+----+-----+---+-------+------+----------+----+------+------+\n",
            "only showing top 5 rows\n",
            "\n"
          ]
        }
      ]
    },
    {
      "cell_type": "code",
      "source": [],
      "metadata": {
        "id": "mU1ziDHYn-YQ"
      },
      "execution_count": null,
      "outputs": []
    }
  ]
}